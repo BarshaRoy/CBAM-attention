{
 "cells": [
  {
   "cell_type": "code",
   "execution_count": 1,
   "id": "0990b827",
   "metadata": {
    "_cell_guid": "b1076dfc-b9ad-4769-8c92-a6c4dae69d19",
    "_uuid": "8f2839f25d086af736a60e9eeb907d3b93b6e0e5",
    "execution": {
     "iopub.execute_input": "2023-03-31T09:11:09.693764Z",
     "iopub.status.busy": "2023-03-31T09:11:09.693379Z",
     "iopub.status.idle": "2023-03-31T09:11:42.390052Z",
     "shell.execute_reply": "2023-03-31T09:11:42.388309Z"
    },
    "papermill": {
     "duration": 32.706568,
     "end_time": "2023-03-31T09:11:42.392694",
     "exception": false,
     "start_time": "2023-03-31T09:11:09.686126",
     "status": "completed"
    },
    "tags": []
   },
   "outputs": [
    {
     "name": "stdout",
     "output_type": "stream",
     "text": [
      "Collecting split_folders\r\n",
      "  Downloading split_folders-0.5.1-py3-none-any.whl (8.4 kB)\r\n",
      "Installing collected packages: split_folders\r\n",
      "Successfully installed split_folders-0.5.1\r\n",
      "\u001b[33mWARNING: Running pip as the 'root' user can result in broken permissions and conflicting behaviour with the system package manager. It is recommended to use a virtual environment instead: https://pip.pypa.io/warnings/venv\u001b[0m\u001b[33m\r\n",
      "\u001b[0m"
     ]
    },
    {
     "name": "stderr",
     "output_type": "stream",
     "text": [
      "Copying files: 3256 files [00:22, 145.65 files/s]\n"
     ]
    }
   ],
   "source": [
    "!pip install split_folders\n",
    "import splitfolders\n",
    "splitfolders.ratio(\"/kaggle/input/leukemia/Original\", output=\"./\", seed=1337, ratio=(.6, .2, .2), group_prefix=None) # default values"
   ]
  },
  {
   "cell_type": "code",
   "execution_count": 2,
   "id": "60766253",
   "metadata": {
    "execution": {
     "iopub.execute_input": "2023-03-31T09:11:42.426366Z",
     "iopub.status.busy": "2023-03-31T09:11:42.426061Z",
     "iopub.status.idle": "2023-03-31T09:11:49.650347Z",
     "shell.execute_reply": "2023-03-31T09:11:49.649226Z"
    },
    "papermill": {
     "duration": 7.243755,
     "end_time": "2023-03-31T09:11:49.652991",
     "exception": false,
     "start_time": "2023-03-31T09:11:42.409236",
     "status": "completed"
    },
    "tags": []
   },
   "outputs": [],
   "source": [
    "import pandas as pd\n",
    "import numpy as np\n",
    "import os\n",
    "import keras\n",
    "import matplotlib.pyplot as plt\n",
    "from keras.layers import Dense, Dropout, Flatten, ZeroPadding2D, Conv2D, MaxPooling2D, Activation, GlobalAveragePooling2D, Reshape, GlobalMaxPooling2D\n",
    "from keras.preprocessing import image\n",
    "from keras.applications.mobilenet import preprocess_input\n",
    "from keras.preprocessing.image import ImageDataGenerator\n",
    "from keras.models import Model, Sequential\n",
    "from keras.optimizers import Adam\n",
    "from sklearn.model_selection import train_test_split\n",
    "from keras.callbacks import EarlyStopping, ReduceLROnPlateau\n",
    "from sklearn.utils import class_weight\n",
    "from keras.utils import plot_model"
   ]
  },
  {
   "cell_type": "code",
   "execution_count": 3,
   "id": "bf4c57e2",
   "metadata": {
    "execution": {
     "iopub.execute_input": "2023-03-31T09:11:49.685736Z",
     "iopub.status.busy": "2023-03-31T09:11:49.685125Z",
     "iopub.status.idle": "2023-03-31T09:11:50.072039Z",
     "shell.execute_reply": "2023-03-31T09:11:50.070891Z"
    },
    "papermill": {
     "duration": 0.405754,
     "end_time": "2023-03-31T09:11:50.074793",
     "exception": false,
     "start_time": "2023-03-31T09:11:49.669039",
     "status": "completed"
    },
    "tags": []
   },
   "outputs": [],
   "source": [
    "from tensorflow.keras.applications.inception_v3 import InceptionV3\n",
    "from tensorflow.keras.applications.inception_resnet_v2 import InceptionResNetV2\n",
    "from tensorflow.keras.applications.xception import Xception\n",
    "from tensorflow.keras.applications.densenet import DenseNet201\n",
    "from tensorflow.keras.applications.efficientnet import EfficientNetB6\n",
    "from tensorflow.keras.applications.resnet50 import ResNet50\n",
    "from tensorflow.keras.applications import efficientnet\n",
    "import tensorflow.keras.layers as L\n",
    "\n",
    "import tensorflow as tf\n",
    "import tensorflow_addons as tfa"
   ]
  },
  {
   "cell_type": "code",
   "execution_count": 4,
   "id": "745ba748",
   "metadata": {
    "execution": {
     "iopub.execute_input": "2023-03-31T09:11:50.108063Z",
     "iopub.status.busy": "2023-03-31T09:11:50.106425Z",
     "iopub.status.idle": "2023-03-31T09:11:50.114277Z",
     "shell.execute_reply": "2023-03-31T09:11:50.113182Z"
    },
    "papermill": {
     "duration": 0.025971,
     "end_time": "2023-03-31T09:11:50.116636",
     "exception": false,
     "start_time": "2023-03-31T09:11:50.090665",
     "status": "completed"
    },
    "tags": []
   },
   "outputs": [
    {
     "data": {
      "text/plain": [
       "'2.11.0'"
      ]
     },
     "execution_count": 4,
     "metadata": {},
     "output_type": "execute_result"
    }
   ],
   "source": [
    "tf.__version__"
   ]
  },
  {
   "cell_type": "code",
   "execution_count": 5,
   "id": "dda58f24",
   "metadata": {
    "execution": {
     "iopub.execute_input": "2023-03-31T09:11:50.149777Z",
     "iopub.status.busy": "2023-03-31T09:11:50.148118Z",
     "iopub.status.idle": "2023-03-31T09:12:00.998957Z",
     "shell.execute_reply": "2023-03-31T09:12:00.997758Z"
    },
    "papermill": {
     "duration": 10.869738,
     "end_time": "2023-03-31T09:12:01.001783",
     "exception": false,
     "start_time": "2023-03-31T09:11:50.132045",
     "status": "completed"
    },
    "tags": []
   },
   "outputs": [
    {
     "name": "stdout",
     "output_type": "stream",
     "text": [
      "\u001b[33mWARNING: Running pip as the 'root' user can result in broken permissions and conflicting behaviour with the system package manager. It is recommended to use a virtual environment instead: https://pip.pypa.io/warnings/venv\u001b[0m\u001b[33m\r\n",
      "\u001b[0m"
     ]
    }
   ],
   "source": [
    "!pip install -q image-classifiers\n",
    "from classification_models.keras import Classifiers"
   ]
  },
  {
   "cell_type": "code",
   "execution_count": 6,
   "id": "0c2b714e",
   "metadata": {
    "execution": {
     "iopub.execute_input": "2023-03-31T09:12:01.034346Z",
     "iopub.status.busy": "2023-03-31T09:12:01.034028Z",
     "iopub.status.idle": "2023-03-31T09:12:01.039089Z",
     "shell.execute_reply": "2023-03-31T09:12:01.037997Z"
    },
    "papermill": {
     "duration": 0.023961,
     "end_time": "2023-03-31T09:12:01.041298",
     "exception": false,
     "start_time": "2023-03-31T09:12:01.017337",
     "status": "completed"
    },
    "tags": []
   },
   "outputs": [],
   "source": [
    "seresnext50, preprocess_input_srnxt = Classifiers.get('seresnext50')\n"
   ]
  },
  {
   "cell_type": "code",
   "execution_count": 7,
   "id": "ab5d3fe8",
   "metadata": {
    "execution": {
     "iopub.execute_input": "2023-03-31T09:12:01.073203Z",
     "iopub.status.busy": "2023-03-31T09:12:01.072928Z",
     "iopub.status.idle": "2023-03-31T09:12:01.078072Z",
     "shell.execute_reply": "2023-03-31T09:12:01.077074Z"
    },
    "papermill": {
     "duration": 0.023592,
     "end_time": "2023-03-31T09:12:01.080397",
     "exception": false,
     "start_time": "2023-03-31T09:12:01.056805",
     "status": "completed"
    },
    "tags": []
   },
   "outputs": [],
   "source": [
    "from tensorflow.keras.applications.efficientnet_v2 import EfficientNetV2S"
   ]
  },
  {
   "cell_type": "code",
   "execution_count": 8,
   "id": "fc277344",
   "metadata": {
    "execution": {
     "iopub.execute_input": "2023-03-31T09:12:01.113304Z",
     "iopub.status.busy": "2023-03-31T09:12:01.112417Z",
     "iopub.status.idle": "2023-03-31T09:12:01.118350Z",
     "shell.execute_reply": "2023-03-31T09:12:01.117328Z"
    },
    "papermill": {
     "duration": 0.024891,
     "end_time": "2023-03-31T09:12:01.120594",
     "exception": false,
     "start_time": "2023-03-31T09:12:01.095703",
     "status": "completed"
    },
    "tags": []
   },
   "outputs": [],
   "source": [
    "from tensorflow.keras.applications.densenet import preprocess_input as preprocess_input_densenet\n",
    "from tensorflow.keras.applications.efficientnet import preprocess_input as preprocess_input_efnet\n",
    "from tensorflow.keras.applications.xception import preprocess_input as preprocess_input_xception\n",
    "from tensorflow.keras.applications.efficientnet_v2 import preprocess_input as preprocess_input_efv2\n",
    "from tensorflow.keras.applications.resnet50 import preprocess_input as preprocess_input_resnet\n"
   ]
  },
  {
   "cell_type": "code",
   "execution_count": 9,
   "id": "fd7d32e3",
   "metadata": {
    "execution": {
     "iopub.execute_input": "2023-03-31T09:12:01.152600Z",
     "iopub.status.busy": "2023-03-31T09:12:01.151659Z",
     "iopub.status.idle": "2023-03-31T09:12:05.006455Z",
     "shell.execute_reply": "2023-03-31T09:12:05.005215Z"
    },
    "papermill": {
     "duration": 3.87295,
     "end_time": "2023-03-31T09:12:05.009188",
     "exception": false,
     "start_time": "2023-03-31T09:12:01.136238",
     "status": "completed"
    },
    "tags": []
   },
   "outputs": [
    {
     "name": "stdout",
     "output_type": "stream",
     "text": [
      "Num GPUs Available:  2\n",
      "Using multi GPU\n",
      "REPLICAS: 2\n"
     ]
    }
   ],
   "source": [
    "ngpu = len(tf.config.experimental.list_physical_devices('GPU'))\n",
    "print(\"Num GPUs Available: \", ngpu)\n",
    "\n",
    "if ngpu>1:\n",
    "    print(\"Using multi GPU\")\n",
    "    strategy = tf.distribute.MirroredStrategy()\n",
    "    \n",
    "AUTO     = tf.data.experimental.AUTOTUNE\n",
    "REPLICAS = strategy.num_replicas_in_sync\n",
    "print(f'REPLICAS: {REPLICAS}')"
   ]
  },
  {
   "cell_type": "code",
   "execution_count": 10,
   "id": "a2053398",
   "metadata": {
    "execution": {
     "iopub.execute_input": "2023-03-31T09:12:05.043369Z",
     "iopub.status.busy": "2023-03-31T09:12:05.042404Z",
     "iopub.status.idle": "2023-03-31T09:12:05.048273Z",
     "shell.execute_reply": "2023-03-31T09:12:05.047239Z"
    },
    "papermill": {
     "duration": 0.024655,
     "end_time": "2023-03-31T09:12:05.050307",
     "exception": false,
     "start_time": "2023-03-31T09:12:05.025652",
     "status": "completed"
    },
    "tags": []
   },
   "outputs": [],
   "source": [
    "preprocess_input_func = preprocess_input_srnxt"
   ]
  },
  {
   "cell_type": "code",
   "execution_count": 11,
   "id": "df4af207",
   "metadata": {
    "execution": {
     "iopub.execute_input": "2023-03-31T09:12:05.082321Z",
     "iopub.status.busy": "2023-03-31T09:12:05.082038Z",
     "iopub.status.idle": "2023-03-31T09:12:05.296562Z",
     "shell.execute_reply": "2023-03-31T09:12:05.295525Z"
    },
    "papermill": {
     "duration": 0.233536,
     "end_time": "2023-03-31T09:12:05.299188",
     "exception": false,
     "start_time": "2023-03-31T09:12:05.065652",
     "status": "completed"
    },
    "tags": []
   },
   "outputs": [
    {
     "name": "stdout",
     "output_type": "stream",
     "text": [
      "Found 1952 images belonging to 4 classes.\n",
      "Found 649 images belonging to 4 classes.\n"
     ]
    }
   ],
   "source": [
    "import os\n",
    "NUM_CLASSES = len(os.listdir(r'./test'))\n",
    "\n",
    "train_datagen=ImageDataGenerator(preprocessing_function=preprocess_input_func) #included in our dependencies\n",
    "\n",
    "train_generator=train_datagen.flow_from_directory(r'./train', # this is where you specify the path to the main data folder\n",
    "                                                 target_size=(224,224),\n",
    "                                                 color_mode='rgb',\n",
    "                                                 batch_size=24,\n",
    "                                                 class_mode='categorical',\n",
    "                                                 shuffle=True)\n",
    "\n",
    "val_datagen=ImageDataGenerator(preprocessing_function=preprocess_input_func) #included in our dependencies\n",
    "\n",
    "val_generator=val_datagen.flow_from_directory(r'./val', # this is where you specify the path to the main data folder\n",
    "                                                 target_size=(224,224),\n",
    "                                                 color_mode='rgb',\n",
    "                                                 batch_size=24,\n",
    "                                                 class_mode='categorical',\n",
    "                                                 shuffle=True)"
   ]
  },
  {
   "cell_type": "code",
   "execution_count": 12,
   "id": "276861ec",
   "metadata": {
    "execution": {
     "iopub.execute_input": "2023-03-31T09:12:05.332632Z",
     "iopub.status.busy": "2023-03-31T09:12:05.332311Z",
     "iopub.status.idle": "2023-03-31T09:12:05.336738Z",
     "shell.execute_reply": "2023-03-31T09:12:05.335657Z"
    },
    "papermill": {
     "duration": 0.023903,
     "end_time": "2023-03-31T09:12:05.339065",
     "exception": false,
     "start_time": "2023-03-31T09:12:05.315162",
     "status": "completed"
    },
    "tags": []
   },
   "outputs": [],
   "source": [
    "# !pip install -q efficientnet\n",
    "# !pip install -q image-classifiers\n",
    "\n",
    "# import efficientnet.tfkeras as efn\n",
    "# from classification_models.keras import Classifiers"
   ]
  },
  {
   "cell_type": "code",
   "execution_count": 13,
   "id": "fb76d40c",
   "metadata": {
    "execution": {
     "iopub.execute_input": "2023-03-31T09:12:05.373294Z",
     "iopub.status.busy": "2023-03-31T09:12:05.373030Z",
     "iopub.status.idle": "2023-03-31T09:12:05.379089Z",
     "shell.execute_reply": "2023-03-31T09:12:05.378123Z"
    },
    "papermill": {
     "duration": 0.025879,
     "end_time": "2023-03-31T09:12:05.381304",
     "exception": false,
     "start_time": "2023-03-31T09:12:05.355425",
     "status": "completed"
    },
    "tags": []
   },
   "outputs": [],
   "source": [
    "from keras import layers\n",
    "from keras import backend as K\n",
    "from keras.layers import GlobalAveragePooling2D, GlobalMaxPooling2D, Reshape, Dense, multiply, Permute, Concatenate, Conv2D, Add, Activation, Lambda\n"
   ]
  },
  {
   "cell_type": "code",
   "execution_count": 14,
   "id": "2a00f701",
   "metadata": {
    "execution": {
     "iopub.execute_input": "2023-03-31T09:12:05.416167Z",
     "iopub.status.busy": "2023-03-31T09:12:05.415880Z",
     "iopub.status.idle": "2023-03-31T09:12:05.457619Z",
     "shell.execute_reply": "2023-03-31T09:12:05.456594Z"
    },
    "papermill": {
     "duration": 0.062218,
     "end_time": "2023-03-31T09:12:05.460205",
     "exception": false,
     "start_time": "2023-03-31T09:12:05.397987",
     "status": "completed"
    },
    "tags": []
   },
   "outputs": [],
   "source": [
    "METRICS = [keras.metrics.CategoricalAccuracy(name='accuracy'),\n",
    "           keras.metrics.Precision(name='precision'),\n",
    "           keras.metrics.Recall(name='recall'),\n",
    "           keras.metrics.AUC(name='auc')]"
   ]
  },
  {
   "cell_type": "code",
   "execution_count": 15,
   "id": "7be86f8e",
   "metadata": {
    "execution": {
     "iopub.execute_input": "2023-03-31T09:12:05.495377Z",
     "iopub.status.busy": "2023-03-31T09:12:05.495079Z",
     "iopub.status.idle": "2023-03-31T09:12:05.511081Z",
     "shell.execute_reply": "2023-03-31T09:12:05.510022Z"
    },
    "papermill": {
     "duration": 0.035585,
     "end_time": "2023-03-31T09:12:05.513029",
     "exception": false,
     "start_time": "2023-03-31T09:12:05.477444",
     "status": "completed"
    },
    "tags": []
   },
   "outputs": [],
   "source": [
    "def cbam_block(cbam_feature, ratio=8):\n",
    "    \"\"\"Contains the implementation of Convolutional Block Attention Module(CBAM) block.\n",
    "    As described in https://arxiv.org/abs/1807.06521.\n",
    "    \"\"\"\n",
    "    \n",
    "    cbam_feature = channel_attention(cbam_feature, ratio)\n",
    "    cbam_feature = spatial_attention(cbam_feature)\n",
    "    return cbam_feature\n",
    "\n",
    "def channel_attention(input_feature, ratio=8):\n",
    "    \n",
    "    channel_axis = 1 if K.image_data_format() == \"channels_first\" else -1\n",
    "    channel = input_feature.shape[channel_axis]\n",
    "    \n",
    "    shared_layer_one = Dense(channel//ratio,\n",
    "                             activation='relu',\n",
    "                             kernel_initializer='he_normal',\n",
    "                             use_bias=True,\n",
    "                             bias_initializer='zeros')\n",
    "    shared_layer_two = Dense(channel,\n",
    "                             kernel_initializer='he_normal',\n",
    "                             use_bias=True,\n",
    "                             bias_initializer='zeros')\n",
    "    \n",
    "    avg_pool = GlobalAveragePooling2D()(input_feature)    \n",
    "    avg_pool = Reshape((1,1,channel))(avg_pool)\n",
    "    assert avg_pool.shape[1:] == (1,1,channel)\n",
    "    avg_pool = shared_layer_one(avg_pool)\n",
    "    assert avg_pool.shape[1:] == (1,1,channel//ratio)\n",
    "    avg_pool = shared_layer_two(avg_pool)\n",
    "    assert avg_pool.shape[1:] == (1,1,channel)\n",
    "    \n",
    "    max_pool = GlobalMaxPooling2D()(input_feature)\n",
    "    max_pool = Reshape((1,1,channel))(max_pool)\n",
    "    assert max_pool.shape[1:] == (1,1,channel)\n",
    "    max_pool = shared_layer_one(max_pool)\n",
    "    assert max_pool.shape[1:] == (1,1,channel//ratio)\n",
    "    max_pool = shared_layer_two(max_pool)\n",
    "    assert max_pool.shape[1:] == (1,1,channel)\n",
    "    \n",
    "    cbam_feature = Add()([avg_pool,max_pool])\n",
    "    cbam_feature = Activation('sigmoid')(cbam_feature)\n",
    "    \n",
    "    if K.image_data_format() == \"channels_first\":\n",
    "        cbam_feature = Permute((3, 1, 2))(cbam_feature)\n",
    "    \n",
    "    return multiply([input_feature, cbam_feature])\n",
    "\n",
    "def spatial_attention(input_feature):\n",
    "    kernel_size = 7\n",
    "    \n",
    "    if K.image_data_format() == \"channels_first\":\n",
    "        channel = input_feature.shape[1]\n",
    "        cbam_feature = Permute((2,3,1))(input_feature)\n",
    "    else:\n",
    "        channel = input_feature.shape[-1]\n",
    "        cbam_feature = input_feature\n",
    "\n",
    "    avg_pool = Lambda(lambda x: K.mean(x, axis=3, keepdims=True))(cbam_feature)\n",
    "    assert avg_pool.shape[-1] == 1\n",
    "    max_pool = Lambda(lambda x: K.max(x, axis=3, keepdims=True))(cbam_feature)\n",
    "    assert max_pool.shape[-1] == 1\n",
    "    concat = Concatenate(axis=3)([avg_pool, max_pool])\n",
    "    assert concat.shape[-1] == 2\n",
    "    cbam_feature = Conv2D(filters = 1,\n",
    "                    kernel_size=kernel_size,\n",
    "                    strides=1,\n",
    "                    padding='same',\n",
    "                    activation='sigmoid',\n",
    "                    kernel_initializer='he_normal',\n",
    "                    use_bias=False)(concat)\t\n",
    "    assert cbam_feature.shape[-1] == 1\n",
    "    \n",
    "    if K.image_data_format() == \"channels_first\":\n",
    "        cbam_feature = Permute((3, 1, 2))(cbam_feature)\n",
    "    \n",
    "    return multiply([input_feature, cbam_feature])"
   ]
  },
  {
   "cell_type": "code",
   "execution_count": 16,
   "id": "71c8e5f4",
   "metadata": {
    "execution": {
     "iopub.execute_input": "2023-03-31T09:12:05.547317Z",
     "iopub.status.busy": "2023-03-31T09:12:05.546589Z",
     "iopub.status.idle": "2023-03-31T09:12:18.016429Z",
     "shell.execute_reply": "2023-03-31T09:12:18.015171Z"
    },
    "papermill": {
     "duration": 12.48964,
     "end_time": "2023-03-31T09:12:18.019756",
     "exception": false,
     "start_time": "2023-03-31T09:12:05.530116",
     "status": "completed"
    },
    "tags": []
   },
   "outputs": [
    {
     "name": "stdout",
     "output_type": "stream",
     "text": [
      "Downloading data from https://github.com/qubvel/classification_models/releases/download/0.0.1/seresnext50_imagenet_1000_no_top.h5\n",
      "104679448/104679448 [==============================] - 1s 0us/step\n"
     ]
    }
   ],
   "source": [
    "IMG_SIZE = 224\n",
    "n_classes = 4\n",
    "\n",
    "inp = layers.Input(shape=(IMG_SIZE,IMG_SIZE,3))\n",
    "# x1 = layers.experimental.preprocessing.Resizing(IMG_SIZE, IMG_SIZE)(inp)\n",
    "# x2 = layers.experimental.preprocessing.Rescaling(1./255)(x1)\n",
    "# x3 = layers.Conv2D(filters=32, kernel_size=(3, 3), activation='relu', \n",
    "#                    padding = 'same', input_shape=(IMG_SIZE,IMG_SIZE,3))(x2)\n",
    "x3 = seresnext50(include_top=False, weights='imagenet', input_shape=(IMG_SIZE, IMG_SIZE, 3))(inp)\n",
    "\n",
    "# x4 = cbam_block(x3)\n",
    "# x5 = layers.BatchNormalization(axis=-1)(x4)\n",
    "# x6 = layers.MaxPool2D(pool_size=(2, 2))(x5)\n",
    "# x7 = layers.Conv2D(filters=64, kernel_size=(3, 3), \n",
    "#                    activation='relu', padding = 'same')(x6)\n",
    "# x8 = cbam_block(x7)\n",
    "# x9 = layers.BatchNormalization(axis=-1)(x8)\n",
    "# x10 = layers.MaxPool2D(pool_size=(2, 2))(x9)\n",
    "# x11 = layers.Conv2D(filters=128, kernel_size=(3, 3), \n",
    "#                     activation='relu', padding = 'same')(x10)\n",
    "# x12 = cbam_block(x11)\n",
    "# x13 = layers.BatchNormalization(axis=-1)(x12)\n",
    "# x14 = layers.MaxPool2D(pool_size=(2, 2), padding='same')(x13)\n",
    "# x15 = layers.Conv2D(filters=256, kernel_size=(3, 3), \n",
    "#                       activation='relu', padding = 'same')(x14)\n",
    "# x16 = cbam_block(x15)\n",
    "# x17 = layers.BatchNormalization(axis=-1)(x4)\n",
    "# x18 = layers.MaxPool2D(pool_size=(2, 2), padding='same')(x17)\n",
    "# y1 = layers.Flatten()(x17)\n",
    "# y2 = layers.Dense(512, activation='relu')(y1)\n",
    "# y3 = layers.Dense(128, activation='relu')(y2)\n",
    "# y4 = layers.Dropout(0.25)(y3)\n",
    "sr = layers.GlobalAveragePooling2D()(x3)\n",
    "y = layers.Dense(n_classes, activation='softmax')(sr)   \n",
    "\n",
    "\n",
    "model_CBAM = tf.keras.Model(inp, y)"
   ]
  },
  {
   "cell_type": "code",
   "execution_count": 17,
   "id": "43e6e6fe",
   "metadata": {
    "execution": {
     "iopub.execute_input": "2023-03-31T09:12:18.056367Z",
     "iopub.status.busy": "2023-03-31T09:12:18.056052Z",
     "iopub.status.idle": "2023-03-31T09:12:18.088063Z",
     "shell.execute_reply": "2023-03-31T09:12:18.086956Z"
    },
    "papermill": {
     "duration": 0.052298,
     "end_time": "2023-03-31T09:12:18.090362",
     "exception": false,
     "start_time": "2023-03-31T09:12:18.038064",
     "status": "completed"
    },
    "tags": []
   },
   "outputs": [],
   "source": [
    "model_CBAM.compile(optimizer=tf.keras.optimizers.Adam(learning_rate=0.0001), \n",
    "                   loss='categorical_crossentropy', \n",
    "                   metrics=METRICS)"
   ]
  },
  {
   "cell_type": "code",
   "execution_count": 18,
   "id": "708efd83",
   "metadata": {
    "execution": {
     "iopub.execute_input": "2023-03-31T09:12:18.130639Z",
     "iopub.status.busy": "2023-03-31T09:12:18.130315Z",
     "iopub.status.idle": "2023-03-31T09:12:18.594071Z",
     "shell.execute_reply": "2023-03-31T09:12:18.592879Z"
    },
    "papermill": {
     "duration": 0.485927,
     "end_time": "2023-03-31T09:12:18.596321",
     "exception": false,
     "start_time": "2023-03-31T09:12:18.110394",
     "status": "completed"
    },
    "tags": []
   },
   "outputs": [
    {
     "name": "stdout",
     "output_type": "stream",
     "text": [
      "Model: \"model_1\"\n",
      "_________________________________________________________________\n",
      " Layer (type)                Output Shape              Param #   \n",
      "=================================================================\n",
      " input_1 (InputLayer)        [(None, 224, 224, 3)]     0         \n",
      "                                                                 \n",
      " model (Functional)          (None, 7, 7, 2048)        25579120  \n",
      "                                                                 \n",
      " global_average_pooling2d_16  (None, 2048)             0         \n",
      "  (GlobalAveragePooling2D)                                       \n",
      "                                                                 \n",
      " dense (Dense)               (None, 4)                 8196      \n",
      "                                                                 \n",
      "=================================================================\n",
      "Total params: 25,587,316\n",
      "Trainable params: 25,519,092\n",
      "Non-trainable params: 68,224\n",
      "_________________________________________________________________\n",
      "None\n"
     ]
    },
    {
     "data": {
      "image/png": "[encoded data removed]",
      "text/plain": [
       "<IPython.core.display.Image object>"
      ]
     },
     "execution_count": 18,
     "metadata": {},
     "output_type": "execute_result"
    }
   ],
   "source": [
    "\n",
    "# md = EfficientNetB6(weights='imagenet', include_top=False,  input_shape=(224, 224, 3), pooling='avg')\n",
    "# model = keras.models.Sequential([\n",
    "#     md,\n",
    "#     keras.layers.Dense(NUM_CLASSES)\n",
    "# ])\n",
    "\n",
    "# model = compileNewModel(dim = 224)\n",
    "model = model_CBAM\n",
    "\n",
    "# summarize layers\n",
    "print(model.summary())\n",
    "# plot graph\n",
    "plot_model(model, to_file='model.pdf', dpi=2000)\n",
    "plot_model(model)"
   ]
  },
  {
   "cell_type": "code",
   "execution_count": 19,
   "id": "9b122ec9",
   "metadata": {
    "execution": {
     "iopub.execute_input": "2023-03-31T09:12:18.634447Z",
     "iopub.status.busy": "2023-03-31T09:12:18.633500Z",
     "iopub.status.idle": "2023-03-31T09:43:56.513103Z",
     "shell.execute_reply": "2023-03-31T09:43:56.512092Z"
    },
    "papermill": {
     "duration": 1897.90037,
     "end_time": "2023-03-31T09:43:56.515220",
     "exception": false,
     "start_time": "2023-03-31T09:12:18.614850",
     "status": "completed"
    },
    "tags": []
   },
   "outputs": [
    {
     "name": "stderr",
     "output_type": "stream",
     "text": [
      "/opt/conda/lib/python3.7/site-packages/ipykernel_launcher.py:10: UserWarning: `Model.fit_generator` is deprecated and will be removed in a future version. Please use `Model.fit`, which supports generators.\n",
      "  # Remove the CWD from sys.path while we load stuff.\n"
     ]
    },
    {
     "name": "stdout",
     "output_type": "stream",
     "text": [
      "Epoch 1/25\n",
      "81/81 [==============================] - 210s 791ms/step - loss: 0.1378 - accuracy: 0.9538 - precision: 0.9797 - recall: 0.9253 - auc: 0.9972 - val_loss: 0.2681 - val_accuracy: 0.9213 - val_precision: 0.9341 - val_recall: 0.8966 - val_auc: 0.9859 - lr: 1.0000e-04\n",
      "Epoch 2/25\n",
      "81/81 [==============================] - 55s 680ms/step - loss: 0.0166 - accuracy: 0.9948 - precision: 0.9948 - recall: 0.9943 - auc: 0.9999 - val_loss: 0.1544 - val_accuracy: 0.9552 - val_precision: 0.9552 - val_recall: 0.9537 - val_auc: 0.9933 - lr: 1.0000e-04\n",
      "Epoch 3/25\n",
      "81/81 [==============================] - 56s 697ms/step - loss: 0.0135 - accuracy: 0.9959 - precision: 0.9964 - recall: 0.9953 - auc: 1.0000 - val_loss: 0.0374 - val_accuracy: 0.9877 - val_precision: 0.9877 - val_recall: 0.9877 - val_auc: 0.9997 - lr: 1.0000e-04\n",
      "Epoch 4/25\n",
      "81/81 [==============================] - 57s 703ms/step - loss: 0.0183 - accuracy: 0.9938 - precision: 0.9938 - recall: 0.9933 - auc: 0.9999 - val_loss: 0.0166 - val_accuracy: 0.9954 - val_precision: 0.9954 - val_recall: 0.9954 - val_auc: 0.9999 - lr: 1.0000e-04\n",
      "Epoch 5/25\n",
      "81/81 [==============================] - 57s 697ms/step - loss: 0.0107 - accuracy: 0.9964 - precision: 0.9964 - recall: 0.9964 - auc: 1.0000 - val_loss: 0.0132 - val_accuracy: 0.9954 - val_precision: 0.9969 - val_recall: 0.9954 - val_auc: 1.0000 - lr: 1.0000e-04\n",
      "Epoch 6/25\n",
      "81/81 [==============================] - 56s 692ms/step - loss: 0.0037 - accuracy: 0.9984 - precision: 0.9990 - recall: 0.9984 - auc: 1.0000 - val_loss: 0.0027 - val_accuracy: 1.0000 - val_precision: 1.0000 - val_recall: 1.0000 - val_auc: 1.0000 - lr: 1.0000e-04\n",
      "Epoch 7/25\n",
      "81/81 [==============================] - 57s 705ms/step - loss: 0.0034 - accuracy: 0.9984 - precision: 0.9984 - recall: 0.9984 - auc: 1.0000 - val_loss: 0.0065 - val_accuracy: 0.9969 - val_precision: 0.9969 - val_recall: 0.9969 - val_auc: 1.0000 - lr: 1.0000e-04\n",
      "Epoch 8/25\n",
      "81/81 [==============================] - 55s 676ms/step - loss: 0.0015 - accuracy: 1.0000 - precision: 1.0000 - recall: 1.0000 - auc: 1.0000 - val_loss: 4.1475e-04 - val_accuracy: 1.0000 - val_precision: 1.0000 - val_recall: 1.0000 - val_auc: 1.0000 - lr: 1.0000e-04\n",
      "Epoch 9/25\n",
      "81/81 [==============================] - 57s 704ms/step - loss: 4.1709e-04 - accuracy: 1.0000 - precision: 1.0000 - recall: 1.0000 - auc: 1.0000 - val_loss: 9.5798e-04 - val_accuracy: 1.0000 - val_precision: 1.0000 - val_recall: 1.0000 - val_auc: 1.0000 - lr: 1.0000e-04\n",
      "Epoch 10/25\n",
      "81/81 [==============================] - 57s 705ms/step - loss: 3.5824e-04 - accuracy: 1.0000 - precision: 1.0000 - recall: 1.0000 - auc: 1.0000 - val_loss: 0.0073 - val_accuracy: 0.9969 - val_precision: 0.9969 - val_recall: 0.9969 - val_auc: 1.0000 - lr: 1.0000e-04\n",
      "Epoch 11/25\n",
      "81/81 [==============================] - 57s 704ms/step - loss: 2.1557e-04 - accuracy: 1.0000 - precision: 1.0000 - recall: 1.0000 - auc: 1.0000 - val_loss: 0.0060 - val_accuracy: 0.9969 - val_precision: 0.9969 - val_recall: 0.9969 - val_auc: 1.0000 - lr: 1.0000e-04\n",
      "Epoch 12/25\n",
      "81/81 [==============================] - 55s 679ms/step - loss: 0.0037 - accuracy: 0.9979 - precision: 0.9979 - recall: 0.9979 - auc: 1.0000 - val_loss: 0.0407 - val_accuracy: 0.9923 - val_precision: 0.9923 - val_recall: 0.9923 - val_auc: 0.9982 - lr: 1.0000e-04\n",
      "Epoch 13/25\n",
      "81/81 [==============================] - ETA: 0s - loss: 0.0165 - accuracy: 0.9953 - precision: 0.9953 - recall: 0.9953 - auc: 0.9999\n",
      "Epoch 13: ReduceLROnPlateau reducing learning rate to 9.999999747378752e-06.\n",
      "81/81 [==============================] - 55s 675ms/step - loss: 0.0165 - accuracy: 0.9953 - precision: 0.9953 - recall: 0.9953 - auc: 0.9999 - val_loss: 0.0167 - val_accuracy: 0.9969 - val_precision: 0.9969 - val_recall: 0.9969 - val_auc: 0.9989 - lr: 1.0000e-04\n",
      "Epoch 14/25\n",
      "81/81 [==============================] - 57s 705ms/step - loss: 0.0025 - accuracy: 0.9995 - precision: 0.9995 - recall: 0.9995 - auc: 1.0000 - val_loss: 0.0083 - val_accuracy: 0.9985 - val_precision: 0.9985 - val_recall: 0.9985 - val_auc: 1.0000 - lr: 1.0000e-05\n",
      "Epoch 15/25\n",
      "81/81 [==============================] - ETA: 0s - loss: 0.0044 - accuracy: 0.9990 - precision: 0.9990 - recall: 0.9990 - auc: 1.0000\n",
      "Epoch 15: ReduceLROnPlateau reducing learning rate to 9.999999747378752e-07.\n",
      "81/81 [==============================] - 55s 677ms/step - loss: 0.0044 - accuracy: 0.9990 - precision: 0.9990 - recall: 0.9990 - auc: 1.0000 - val_loss: 0.0059 - val_accuracy: 0.9985 - val_precision: 0.9985 - val_recall: 0.9985 - val_auc: 1.0000 - lr: 1.0000e-05\n",
      "Epoch 16/25\n",
      "81/81 [==============================] - 55s 683ms/step - loss: 0.0068 - accuracy: 0.9969 - precision: 0.9969 - recall: 0.9969 - auc: 1.0000 - val_loss: 0.0058 - val_accuracy: 0.9985 - val_precision: 0.9985 - val_recall: 0.9985 - val_auc: 1.0000 - lr: 1.0000e-06\n",
      "Epoch 17/25\n",
      "81/81 [==============================] - ETA: 0s - loss: 0.0042 - accuracy: 0.9990 - precision: 0.9990 - recall: 0.9990 - auc: 1.0000\n",
      "Epoch 17: ReduceLROnPlateau reducing learning rate to 9.999999974752428e-08.\n",
      "81/81 [==============================] - 56s 685ms/step - loss: 0.0042 - accuracy: 0.9990 - precision: 0.9990 - recall: 0.9990 - auc: 1.0000 - val_loss: 0.0055 - val_accuracy: 0.9985 - val_precision: 0.9985 - val_recall: 0.9985 - val_auc: 1.0000 - lr: 1.0000e-06\n",
      "Epoch 18/25\n",
      "81/81 [==============================] - 55s 681ms/step - loss: 0.0020 - accuracy: 1.0000 - precision: 1.0000 - recall: 0.9995 - auc: 1.0000 - val_loss: 0.0055 - val_accuracy: 0.9985 - val_precision: 0.9985 - val_recall: 0.9985 - val_auc: 1.0000 - lr: 1.0000e-07\n",
      "Epoch 19/25\n",
      "81/81 [==============================] - ETA: 0s - loss: 0.0020 - accuracy: 0.9995 - precision: 0.9995 - recall: 0.9995 - auc: 1.0000\n",
      "Epoch 19: ReduceLROnPlateau reducing learning rate to 1.0000000116860975e-08.\n",
      "81/81 [==============================] - 56s 697ms/step - loss: 0.0020 - accuracy: 0.9995 - precision: 0.9995 - recall: 0.9995 - auc: 1.0000 - val_loss: 0.0053 - val_accuracy: 0.9985 - val_precision: 0.9985 - val_recall: 0.9985 - val_auc: 1.0000 - lr: 1.0000e-07\n",
      "Epoch 20/25\n",
      "81/81 [==============================] - 56s 685ms/step - loss: 0.0036 - accuracy: 0.9995 - precision: 0.9995 - recall: 0.9995 - auc: 1.0000 - val_loss: 0.0055 - val_accuracy: 0.9985 - val_precision: 0.9985 - val_recall: 0.9985 - val_auc: 1.0000 - lr: 1.0000e-08\n",
      "Epoch 21/25\n",
      "81/81 [==============================] - ETA: 0s - loss: 0.0015 - accuracy: 1.0000 - precision: 1.0000 - recall: 1.0000 - auc: 1.0000\n",
      "Epoch 21: ReduceLROnPlateau reducing learning rate to 9.999999939225292e-10.\n",
      "81/81 [==============================] - 55s 678ms/step - loss: 0.0015 - accuracy: 1.0000 - precision: 1.0000 - recall: 1.0000 - auc: 1.0000 - val_loss: 0.0054 - val_accuracy: 0.9985 - val_precision: 0.9985 - val_recall: 0.9985 - val_auc: 1.0000 - lr: 1.0000e-08\n",
      "Epoch 22/25\n",
      "81/81 [==============================] - 55s 676ms/step - loss: 0.0024 - accuracy: 0.9995 - precision: 0.9995 - recall: 0.9995 - auc: 1.0000 - val_loss: 0.0056 - val_accuracy: 0.9985 - val_precision: 0.9985 - val_recall: 0.9985 - val_auc: 1.0000 - lr: 1.0000e-09\n",
      "Epoch 23/25\n",
      "81/81 [==============================] - ETA: 0s - loss: 0.0020 - accuracy: 0.9995 - precision: 0.9995 - recall: 0.9995 - auc: 1.0000\n",
      "Epoch 23: ReduceLROnPlateau reducing learning rate to 1e-10.\n",
      "81/81 [==============================] - 55s 681ms/step - loss: 0.0020 - accuracy: 0.9995 - precision: 0.9995 - recall: 0.9995 - auc: 1.0000 - val_loss: 0.0056 - val_accuracy: 0.9985 - val_precision: 0.9985 - val_recall: 0.9985 - val_auc: 1.0000 - lr: 1.0000e-09\n",
      "Epoch 24/25\n",
      "81/81 [==============================] - 56s 696ms/step - loss: 0.0012 - accuracy: 1.0000 - precision: 1.0000 - recall: 0.9995 - auc: 1.0000 - val_loss: 0.0055 - val_accuracy: 0.9985 - val_precision: 0.9985 - val_recall: 0.9985 - val_auc: 1.0000 - lr: 1.0000e-10\n",
      "Epoch 25/25\n",
      "81/81 [==============================] - 56s 684ms/step - loss: 0.0013 - accuracy: 1.0000 - precision: 1.0000 - recall: 1.0000 - auc: 1.0000 - val_loss: 0.0056 - val_accuracy: 0.9985 - val_precision: 0.9985 - val_recall: 0.9985 - val_auc: 1.0000 - lr: 1.0000e-10\n"
     ]
    }
   ],
   "source": [
    "earlystop=EarlyStopping(patience=3) \n",
    "learning_rate_reduction=ReduceLROnPlateau(monitor='loss',patience=2,verbose=1,factor=0.1,min_lr=0.0000000001) \n",
    "callback=[learning_rate_reduction]\n",
    "\n",
    "loss = keras.losses.CategoricalCrossentropy(from_logits=True)\n",
    "# model.compile(optimizer=Adam(lr=0.00001),loss=loss, metrics=['accuracy'])\n",
    "\n",
    "step_size_train=train_generator.n//train_generator.batch_size\n",
    "step_size_val=val_generator.n//val_generator.batch_size\n",
    "history = model.fit_generator(generator=train_generator, steps_per_epoch=step_size_train, validation_data=val_generator, validation_steps=step_size_val, epochs=25, callbacks=callback)\n"
   ]
  },
  {
   "cell_type": "code",
   "execution_count": 20,
   "id": "f098b5e8",
   "metadata": {
    "execution": {
     "iopub.execute_input": "2023-03-31T09:43:56.786187Z",
     "iopub.status.busy": "2023-03-31T09:43:56.785191Z",
     "iopub.status.idle": "2023-03-31T09:43:59.843846Z",
     "shell.execute_reply": "2023-03-31T09:43:59.842828Z"
    },
    "papermill": {
     "duration": 3.198953,
     "end_time": "2023-03-31T09:43:59.846274",
     "exception": false,
     "start_time": "2023-03-31T09:43:56.647321",
     "status": "completed"
    },
    "tags": []
   },
   "outputs": [
    {
     "name": "stdout",
     "output_type": "stream",
     "text": [
      "Saved model to disk\n"
     ]
    }
   ],
   "source": [
    "# serialize model to JSON\n",
    "model_json = model.to_json()\n",
    "with open(\"DenseNet201.json\", \"w\") as json_file:\n",
    "    json_file.write(model_json)\n",
    "# serialize weights to HDF5\n",
    "model.save(\"zooEf.h5\")\n",
    "print(\"Saved model to disk\")"
   ]
  },
  {
   "cell_type": "code",
   "execution_count": 21,
   "id": "2065f0a2",
   "metadata": {
    "execution": {
     "iopub.execute_input": "2023-03-31T09:44:00.104401Z",
     "iopub.status.busy": "2023-03-31T09:44:00.104068Z",
     "iopub.status.idle": "2023-03-31T09:44:00.621436Z",
     "shell.execute_reply": "2023-03-31T09:44:00.620493Z"
    },
    "papermill": {
     "duration": 0.647764,
     "end_time": "2023-03-31T09:44:00.623606",
     "exception": false,
     "start_time": "2023-03-31T09:43:59.975842",
     "status": "completed"
    },
    "tags": []
   },
   "outputs": [
    {
     "data": {
      "image/png": "[encoded data removed]",
      "text/plain": [
       "<Figure size 640x480 with 1 Axes>"
      ]
     },
     "metadata": {},
     "output_type": "display_data"
    },
    {
     "data": {
      "image/png": "[encoded data removed]",
      "text/plain": [
       "<Figure size 640x480 with 1 Axes>"
      ]
     },
     "metadata": {},
     "output_type": "display_data"
    },
    {
     "data": {
      "text/plain": [
       "<Figure size 640x480 with 0 Axes>"
      ]
     },
     "metadata": {},
     "output_type": "display_data"
    }
   ],
   "source": [
    "plt.figure(1)\n",
    "plt.plot(history.history['accuracy'])\n",
    "plt.plot(history.history['val_accuracy'])\n",
    "plt.title('model accuracy')\n",
    "plt.ylabel('accuracy')\n",
    "plt.xlabel('epoch')\n",
    "plt.legend(['train', 'val'], loc='upper left')\n",
    "plt.savefig('accu.png')\n",
    "\n",
    "plt.figure(2)\n",
    "plt.plot(history.history['loss'])\n",
    "plt.plot(history.history['val_loss'])\n",
    "plt.title('model loss')\n",
    "plt.ylabel('loss')\n",
    "plt.xlabel('epoch')\n",
    "plt.legend(['train', 'val'], loc='upper right')\n",
    "plt.show()\n",
    "plt.savefig('loss.png')"
   ]
  },
  {
   "cell_type": "code",
   "execution_count": 22,
   "id": "42d2c703",
   "metadata": {
    "execution": {
     "iopub.execute_input": "2023-03-31T09:44:00.883810Z",
     "iopub.status.busy": "2023-03-31T09:44:00.883457Z",
     "iopub.status.idle": "2023-03-31T09:44:12.247787Z",
     "shell.execute_reply": "2023-03-31T09:44:12.246684Z"
    },
    "papermill": {
     "duration": 11.496829,
     "end_time": "2023-03-31T09:44:12.250697",
     "exception": false,
     "start_time": "2023-03-31T09:44:00.753868",
     "status": "completed"
    },
    "tags": []
   },
   "outputs": [
    {
     "name": "stdout",
     "output_type": "stream",
     "text": [
      "Found 655 images belonging to 4 classes.\n"
     ]
    },
    {
     "name": "stderr",
     "output_type": "stream",
     "text": [
      "/opt/conda/lib/python3.7/site-packages/ipykernel_launcher.py:13: UserWarning: `Model.predict_generator` is deprecated and will be removed in a future version. Please use `Model.predict`, which supports generators.\n",
      "  del sys.path[0]\n"
     ]
    },
    {
     "name": "stdout",
     "output_type": "stream",
     "text": [
      "27/27 [==============================] - 11s 173ms/step\n",
      "                          Filename Predictions\n",
      "0        Benign/WBC-Benign-007.jpg      Benign\n",
      "1        Benign/WBC-Benign-009.jpg      Benign\n",
      "2        Benign/WBC-Benign-010.jpg      Benign\n",
      "3        Benign/WBC-Benign-023.jpg      Benign\n",
      "4        Benign/WBC-Benign-024.jpg      Benign\n",
      "..                             ...         ...\n",
      "650  Pro/WBC-Malignant-Pro-775.jpg         Pro\n",
      "651  Pro/WBC-Malignant-Pro-780.jpg         Pro\n",
      "652  Pro/WBC-Malignant-Pro-782.jpg         Pro\n",
      "653  Pro/WBC-Malignant-Pro-793.jpg         Pro\n",
      "654  Pro/WBC-Malignant-Pro-794.jpg         Pro\n",
      "\n",
      "[655 rows x 2 columns]\n",
      "654 1\n",
      "              precision    recall  f1-score   support\n",
      "\n",
      "           0       1.00      0.99      1.00       102\n",
      "           1       0.99      1.00      1.00       197\n",
      "           2       1.00      1.00      1.00       194\n",
      "           3       1.00      1.00      1.00       162\n",
      "\n",
      "   micro avg       1.00      1.00      1.00       655\n",
      "   macro avg       1.00      1.00      1.00       655\n",
      "weighted avg       1.00      1.00      1.00       655\n",
      " samples avg       1.00      1.00      1.00       655\n",
      "\n",
      "99.84732824427482\n",
      "Class  0  Accuracy:  0.9901960784313726\n",
      "Class  1  Accuracy:  1.0\n",
      "Class  2  Accuracy:  1.0\n",
      "Class  3  Accuracy:  1.0\n"
     ]
    },
    {
     "data": {
      "image/png": "[encoded data removed]",
      "text/plain": [
       "<Figure size 500x300 with 2 Axes>"
      ]
     },
     "metadata": {},
     "output_type": "display_data"
    }
   ],
   "source": [
    "test_datagen=ImageDataGenerator(preprocessing_function=preprocess_input_func)\n",
    "batch_size=24\n",
    "pred_dir = r'./test'\n",
    "test_generator = test_datagen.flow_from_directory(\n",
    "    directory=pred_dir,\n",
    "    target_size=(224,224),\n",
    "    color_mode=\"rgb\",\n",
    "    batch_size=batch_size,\n",
    "    class_mode=None,\n",
    "    shuffle=False\n",
    ")\n",
    "#test_generator.reset() \n",
    "pred=model.predict_generator(test_generator,verbose=1,steps=test_generator.n/batch_size)\n",
    "\n",
    "predicted_class_indices=np.argmax(pred,axis=1)\n",
    "labels = (train_generator.class_indices)\n",
    "labels = dict((v,k) for k,v in labels.items())\n",
    "predictions = [labels[k] for k in predicted_class_indices]\n",
    "filenames=test_generator.filenames\n",
    "results=pd.DataFrame({\"Filename\":filenames,\n",
    "                      \"Predictions\":predictions})\n",
    "print(results)\n",
    "\n",
    "\n",
    "import pandas as pd\n",
    "t_counter = 0\n",
    "f_counter = 0\n",
    "\n",
    "file_arr = []\n",
    "pred_arr = []\n",
    "\n",
    "for index, row in results.iterrows():\n",
    "    #print(row['Filename'].split('/')[0], row['Predictions'])\n",
    "    file_arr.append(row['Filename'].split('/')[0])\n",
    "    pred_arr.append(row['Predictions'])\n",
    "    if row['Filename'].split('/')[0] == row['Predictions']:\n",
    "        t_counter = t_counter + 1\n",
    "    else:\n",
    "        f_counter = f_counter + 1\n",
    "print(t_counter, f_counter)\n",
    "\n",
    "from sklearn.preprocessing import LabelEncoder\n",
    "labelencoder = LabelEncoder()\n",
    "test_y = labelencoder.fit_transform(file_arr)\n",
    "pred_y = labelencoder.fit_transform(pred_arr)\n",
    "test_y_or = test_y\n",
    "pred_y_or = pred_y\n",
    "\n",
    "from keras.utils import np_utils\n",
    "test_y = np_utils.to_categorical(test_y, NUM_CLASSES)\n",
    "pred_y = np_utils.to_categorical(pred_y, NUM_CLASSES)\n",
    "from sklearn.metrics import classification_report\n",
    "print(classification_report(test_y, pred_y))\n",
    "\n",
    "from sklearn.metrics import accuracy_score\n",
    "score = accuracy_score(test_y, pred_y)\n",
    "print(score*100)\n",
    "\n",
    "from sklearn.metrics import confusion_matrix\n",
    "c=confusion_matrix(test_y_or, pred_y_or)\n",
    "x = c.diagonal()/c.sum(axis=1)\n",
    "for i in range(len(x)):\n",
    "    print('Class ', i, ' Accuracy: ', x[i])\n",
    "import seaborn as sns\n",
    "import matplotlib.pyplot as plt\n",
    "\n",
    "plt.figure(figsize = (5,3))\n",
    "sns.heatmap(c, annot=True, annot_kws={\"size\": 20}, fmt='d')\n",
    "plt.savefig('cm.png')"
   ]
  }
 ],
 "metadata": {
  "kernelspec": {
   "display_name": "Python 3",
   "language": "python",
   "name": "python3"
  },
  "language_info": {
   "codemirror_mode": {
    "name": "ipython",
    "version": 3
   },
   "file_extension": ".py",
   "mimetype": "text/x-python",
   "name": "python",
   "nbconvert_exporter": "python",
   "pygments_lexer": "ipython3",
   "version": "3.7.12"
  },
  "papermill": {
   "default_parameters": {},
   "duration": 1994.855682,
   "end_time": "2023-03-31T09:44:15.406653",
   "environment_variables": {},
   "exception": null,
   "input_path": "__notebook__.ipynb",
   "output_path": "__notebook__.ipynb",
   "parameters": {},
   "start_time": "2023-03-31T09:11:00.550971",
   "version": "2.4.0"
  }
 },
 "nbformat": 4,
 "nbformat_minor": 5
}
